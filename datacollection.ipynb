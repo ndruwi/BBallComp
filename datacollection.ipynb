{
 "cells": [
  {
   "cell_type": "code",
   "execution_count": null,
   "metadata": {},
   "outputs": [],
   "source": [
    "Predicting NBA Salaries using machine learning via AWS softwares\n",
    "1. Data Collection, reformat data to include salary as the last column along with all other items\n",
    "2. Data Cleaning, remove all rows with missing values\n",
    "3. Data Preprocessing, split data into training and testing sets, utilize 2024 free agent list as testing data\n",
    "4. Model Selection, utilize Random Forest Regressor to predict salaries based on player statistics and GP, GS \n",
    "5. Model Training, train the model on the training data\n",
    "6. Model Evaluation, evaluate model on the testing data\n",
    "7. Model Tuning, tune the model to improve accuracy\n",
    "8. Model Prediction, predict the salaries of the 2024 free agents\n",
    "9. Model Deployment, deploy model to AWS S3 bucket\n",
    "10. Model Monitoring, monitor model performance and update model as needed\n",
    "11. Model Maintenance, maintain model by updating it as needed\n",
    "\n",
    "Software Utilization\n",
    "1. AWS Redshift, store model data in Redshift\n",
    "2. AWS SageMaker, train and evaluate model on SageMaker\n",
    "3. AWS Lambda, run code on Lambda to predict salaries\n",
    "4. AWS API Gateway, create an API to access the model\n",
    "5. AWS CloudWatch, monitor model performance\n",
    "6. AWS CloudFormation, create a stack to deploy model\n",
    "7. AWS IAM, manage permissions for model deployment\n",
    "8. AWS SNS, send notifications for model updates\n",
    "9. AWS SQS, manage model updates\n",
    "10. AWS SES, send email notifications for model updates\n",
    "\n",
    "\n"
   ]
  }
 ],
 "metadata": {
  "language_info": {
   "name": "python"
  }
 },
 "nbformat": 4,
 "nbformat_minor": 2
}
