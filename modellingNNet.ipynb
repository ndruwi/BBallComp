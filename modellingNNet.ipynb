{
 "cells": [
  {
   "cell_type": "code",
   "execution_count": 3,
   "metadata": {},
   "outputs": [],
   "source": [
    "import pandas as pd \n",
    "from sklearn.model_selection import train_test_split\n",
    "from sklearn.preprocessing import StandardScaler\n",
    "\n",
    "# Load the data\n",
    "data = pd.read_csv('nba_data.csv')\n",
    "\n",
    "# Assuming 'Salary' is your target, and you want to use stats as features\n",
    "features = ['G', 'MP', 'FG', '3P', 'FT', 'TRB', 'AST', 'STL', 'BLK', 'TOV', 'PTS']  # Select relevant stats\n",
    "X = data[features]\n",
    "y = data['Salary']\n",
    "\n",
    "# Split data into training and testing sets\n",
    "X_train, X_test, y_train, y_test = train_test_split(X, y, test_size=0.2, random_state=42)\n",
    "\n",
    "# Standardize the data \n",
    "scaler = StandardScaler()\n",
    "X_train = scaler.fit_transform(X_train)\n",
    "X_test = scaler.transform(X_test)"
   ]
  },
  {
   "cell_type": "code",
   "execution_count": 6,
   "metadata": {},
   "outputs": [],
   "source": [
    "import torch\n",
    "from torch.utils.data import DataLoader, Dataset\n",
    "\n",
    "\n",
    "class NbaSalaryDataset(Dataset):\n",
    "    def __init__(self, X, y):\n",
    "        self.X = torch.tensor(X, dtype=torch.float32)\n",
    "        self.y = torch.tensor(y.values, dtype=torch.float32)\n",
    "    \n",
    "    def __len__(self):\n",
    "        return len(self.y)\n",
    "    \n",
    "    def __getitem__(self, idx):\n",
    "        return self.X[idx], self.y[idx]\n",
    "\n",
    "# Create dataset objects\n",
    "train_dataset = NbaSalaryDataset(X_train, y_train)\n",
    "test_dataset = NbaSalaryDataset(X_test, y_test)\n",
    "\n",
    "# Create data loaders\n",
    "train_loader = DataLoader(dataset=train_dataset, batch_size=32, shuffle=True)\n",
    "test_loader = DataLoader(dataset=test_dataset, batch_size=32, shuffle=False)"
   ]
  },
  {
   "cell_type": "code",
   "execution_count": 7,
   "metadata": {},
   "outputs": [],
   "source": [
    "import torch.nn as nn\n",
    "\n",
    "class SalaryPredictor(nn.Module):\n",
    "    def __init__(self, input_size):\n",
    "        super(SalaryPredictor, self).__init__()\n",
    "        self.fc1 = nn.Linear(input_size, 128)  # Input layer\n",
    "        self.fc2 = nn.Linear(128, 64)         # Hidden layer\n",
    "        self.fc3 = nn.Linear(64, 1)           # Output layer (predicting salary)\n",
    "        self.relu = nn.ReLU()\n",
    "        \n",
    "    def forward(self, x):\n",
    "        x = self.relu(self.fc1(x))\n",
    "        x = self.relu(self.fc2(x))\n",
    "        x = self.fc3(x)  # No activation in the output layer (regression task)\n",
    "        return x\n",
    "\n",
    "# Initialize the model\n",
    "input_size = X_train.shape[1]  # Number of features\n",
    "model = SalaryPredictor(input_size)"
   ]
  },
  {
   "cell_type": "code",
   "execution_count": 8,
   "metadata": {},
   "outputs": [],
   "source": [
    "criterion = nn.MSELoss()  # Mean Squared Error loss for regression\n",
    "optimizer = torch.optim.Adam(model.parameters(), lr=0.001)"
   ]
  },
  {
   "cell_type": "code",
   "execution_count": 9,
   "metadata": {},
   "outputs": [
    {
     "name": "stdout",
     "output_type": "stream",
     "text": [
      "Epoch [1/50], Loss: 335248911813836.8125\n",
      "Epoch [2/50], Loss: 321967139848192.0000\n",
      "Epoch [3/50], Loss: 334897226134323.1875\n",
      "Epoch [4/50], Loss: 323524726515302.3750\n",
      "Epoch [5/50], Loss: 339572025406259.1875\n",
      "Epoch [6/50], Loss: 343071887720448.0000\n",
      "Epoch [7/50], Loss: 324558609029529.6250\n",
      "Epoch [8/50], Loss: 332934785112473.6250\n",
      "Epoch [9/50], Loss: 324208281465651.1875\n",
      "Epoch [10/50], Loss: 340226104465817.6250\n",
      "Epoch [11/50], Loss: 343342052907417.6250\n",
      "Epoch [12/50], Loss: 337437549972684.8125\n",
      "Epoch [13/50], Loss: 329970514447564.8125\n",
      "Epoch [14/50], Loss: 325121525730508.8125\n",
      "Epoch [15/50], Loss: 344613975595417.6250\n",
      "Epoch [16/50], Loss: 339338576317644.8125\n",
      "Epoch [17/50], Loss: 324492222424678.3750\n",
      "Epoch [18/50], Loss: 324949897327411.1875\n",
      "Epoch [19/50], Loss: 324293268131020.8125\n",
      "Epoch [20/50], Loss: 338000083314278.3750\n",
      "Epoch [21/50], Loss: 347674933356134.3750\n",
      "Epoch [22/50], Loss: 340565551166259.1875\n",
      "Epoch [23/50], Loss: 346141197179289.6250\n",
      "Epoch [24/50], Loss: 339364196804198.3750\n",
      "Epoch [25/50], Loss: 325666832226713.6250\n",
      "Epoch [26/50], Loss: 345994884756275.1875\n",
      "Epoch [27/50], Loss: 350753678321254.3750\n",
      "Epoch [28/50], Loss: 328459617094860.8125\n",
      "Epoch [29/50], Loss: 337845617164288.0000\n",
      "Epoch [30/50], Loss: 347169674074521.6250\n",
      "Epoch [31/50], Loss: 328421341554278.3750\n",
      "Epoch [32/50], Loss: 328472919749427.1875\n",
      "Epoch [33/50], Loss: 328928627523584.0000\n",
      "Epoch [34/50], Loss: 341696328813772.8125\n",
      "Epoch [35/50], Loss: 346019493576704.0000\n",
      "Epoch [36/50], Loss: 345100422584729.6250\n",
      "Epoch [37/50], Loss: 336596372239155.1875\n",
      "Epoch [38/50], Loss: 336990970681753.6250\n",
      "Epoch [39/50], Loss: 335875477078016.0000\n",
      "Epoch [40/50], Loss: 347350557628825.6250\n",
      "Epoch [41/50], Loss: 329920979717324.8125\n",
      "Epoch [42/50], Loss: 331059755063705.6250\n",
      "Epoch [43/50], Loss: 332638702482227.1875\n",
      "Epoch [44/50], Loss: 332236821050163.1875\n",
      "Epoch [45/50], Loss: 331206537248768.0000\n",
      "Epoch [46/50], Loss: 331800068174643.1875\n",
      "Epoch [47/50], Loss: 327146949260083.1875\n",
      "Epoch [48/50], Loss: 320157593790054.3750\n",
      "Epoch [49/50], Loss: 328522590375116.8125\n",
      "Epoch [50/50], Loss: 343909673100902.3750\n"
     ]
    }
   ],
   "source": [
    "num_epochs = 50\n",
    "train_losses = []\n",
    "val_losses = []\n",
    "\n",
    "for epoch in range(num_epochs):\n",
    "    model.train()  # Set model to training mode\n",
    "    running_train_loss = 0.0\n",
    "    \n",
    "    # Training Loop\n",
    "    for features, labels in train_loader:\n",
    "        # Forward pass\n",
    "        predictions = model(features).squeeze()\n",
    "        loss = criterion(predictions, labels)\n",
    "        \n",
    "        # Backward pass and optimization\n",
    "        optimizer.zero_grad()  # Clear gradients\n",
    "        loss.backward()        # Backpropagate\n",
    "        optimizer.step()       # Update weights\n",
    "        \n",
    "        running_train_loss += loss.item()\n",
    "    \n",
    "    # Calculate average training loss for this epoch\n",
    "    avg_train_loss = running_train_loss / len(train_loader)\n",
    "    train_losses.append(avg_train_loss)\n",
    "\n",
    "    # Validation Loop (use model.eval() to prevent gradient updates)\n",
    "    model.eval()  \n",
    "    running_val_loss = 0.0\n",
    "    with torch.no_grad():  # Disable gradient computation during validation\n",
    "        for features, labels in test_loader:\n",
    "            predictions = model(features).squeeze()\n",
    "            loss = criterion(predictions, labels)\n",
    "            running_val_loss += loss.item()\n",
    "    \n",
    "    avg_val_loss = running_val_loss / len(test_loader)\n",
    "    val_losses.append(avg_val_loss)\n",
    "\n",
    "    # Print epoch statistics\n",
    "    print(f'Epoch [{epoch+1}/{num_epochs}], Training Loss: {avg_train_loss:.4f}, Validation Loss: {avg_val_loss:.4f}')"
   ]
  },
  {
   "cell_type": "code",
   "execution_count": 14,
   "metadata": {},
   "outputs": [
    {
     "ename": "NameError",
     "evalue": "name 'train_losses' is not defined",
     "output_type": "error",
     "traceback": [
      "\u001b[1;31m---------------------------------------------------------------------------\u001b[0m",
      "\u001b[1;31mNameError\u001b[0m                                 Traceback (most recent call last)",
      "Cell \u001b[1;32mIn[14], line 4\u001b[0m\n\u001b[0;32m      2\u001b[0m \u001b[38;5;66;03m# Plotting the training and validation loss\u001b[39;00m\n\u001b[0;32m      3\u001b[0m plt\u001b[38;5;241m.\u001b[39mfigure(figsize\u001b[38;5;241m=\u001b[39m(\u001b[38;5;241m10\u001b[39m, \u001b[38;5;241m6\u001b[39m))\n\u001b[1;32m----> 4\u001b[0m plt\u001b[38;5;241m.\u001b[39mplot(\u001b[43mtrain_losses\u001b[49m, label\u001b[38;5;241m=\u001b[39m\u001b[38;5;124m'\u001b[39m\u001b[38;5;124mTraining Loss\u001b[39m\u001b[38;5;124m'\u001b[39m)\n\u001b[0;32m      5\u001b[0m plt\u001b[38;5;241m.\u001b[39mplot(val_losses, label\u001b[38;5;241m=\u001b[39m\u001b[38;5;124m'\u001b[39m\u001b[38;5;124mValidation Loss\u001b[39m\u001b[38;5;124m'\u001b[39m)\n\u001b[0;32m      6\u001b[0m plt\u001b[38;5;241m.\u001b[39mtitle(\u001b[38;5;124m'\u001b[39m\u001b[38;5;124mTraining and Validation Loss Over Epochs\u001b[39m\u001b[38;5;124m'\u001b[39m)\n",
      "\u001b[1;31mNameError\u001b[0m: name 'train_losses' is not defined"
     ]
    },
    {
     "data": {
      "text/plain": [
       "<Figure size 1000x600 with 0 Axes>"
      ]
     },
     "metadata": {},
     "output_type": "display_data"
    }
   ],
   "source": [
    "import matplotlib.pyplot as plt\n",
    "# Plotting the training and validation loss\n",
    "plt.figure(figsize=(10, 6))\n",
    "plt.plot(train_losses, label='Training Loss')\n",
    "plt.plot(val_losses, label='Validation Loss')\n",
    "plt.title('Training and Validation Loss Over Epochs')\n",
    "plt.xlabel('Epochs')\n",
    "plt.ylabel('Loss')\n",
    "plt.legend()\n",
    "plt.grid(True)\n",
    "plt.show()"
   ]
  },
  {
   "cell_type": "code",
   "execution_count": 10,
   "metadata": {},
   "outputs": [
    {
     "name": "stdout",
     "output_type": "stream",
     "text": [
      "Test Loss: 334632523049642.6875\n"
     ]
    }
   ],
   "source": [
    "model.eval()  # Set model to evaluation mode\n",
    "with torch.no_grad():\n",
    "    test_loss = 0.0\n",
    "    for features, labels in test_loader:\n",
    "        predictions = model(features).squeeze()\n",
    "        loss = criterion(predictions, labels)\n",
    "        test_loss += loss.item()\n",
    "    \n",
    "    print(f'Test Loss: {test_loss/len(test_loader):.4f}')"
   ]
  },
  {
   "cell_type": "code",
   "execution_count": 11,
   "metadata": {},
   "outputs": [
    {
     "ename": "NameError",
     "evalue": "name 'new_player_data' is not defined",
     "output_type": "error",
     "traceback": [
      "\u001b[1;31m---------------------------------------------------------------------------\u001b[0m",
      "\u001b[1;31mNameError\u001b[0m                                 Traceback (most recent call last)",
      "Cell \u001b[1;32mIn[11], line 1\u001b[0m\n\u001b[1;32m----> 1\u001b[0m new_player_stats \u001b[38;5;241m=\u001b[39m torch\u001b[38;5;241m.\u001b[39mtensor([\u001b[43mnew_player_data\u001b[49m], dtype\u001b[38;5;241m=\u001b[39mtorch\u001b[38;5;241m.\u001b[39mfloat32)  \u001b[38;5;66;03m# Replace with actual player stats\u001b[39;00m\n\u001b[0;32m      2\u001b[0m new_player_stats \u001b[38;5;241m=\u001b[39m scaler\u001b[38;5;241m.\u001b[39mtransform(new_player_stats)  \u001b[38;5;66;03m# Scale the data\u001b[39;00m\n\u001b[0;32m      3\u001b[0m new_player_stats \u001b[38;5;241m=\u001b[39m torch\u001b[38;5;241m.\u001b[39mtensor(new_player_stats, dtype\u001b[38;5;241m=\u001b[39mtorch\u001b[38;5;241m.\u001b[39mfloat32)\n",
      "\u001b[1;31mNameError\u001b[0m: name 'new_player_data' is not defined"
     ]
    }
   ],
   "source": [
    "new_player_stats = torch.tensor([new_player_data], dtype=torch.float32)  # Replace with actual player stats\n",
    "new_player_stats = scaler.transform(new_player_stats)  # Scale the data\n",
    "new_player_stats = torch.tensor(new_player_stats, dtype=torch.float32)\n",
    "\n",
    "model.eval()\n",
    "with torch.no_grad():\n",
    "    predicted_salary = model(new_player_stats).item()\n",
    "    print(f'Predicted Salary: ${predicted_salary:.2f}')"
   ]
  }
 ],
 "metadata": {
  "kernelspec": {
   "display_name": "Python 3",
   "language": "python",
   "name": "python3"
  },
  "language_info": {
   "codemirror_mode": {
    "name": "ipython",
    "version": 3
   },
   "file_extension": ".py",
   "mimetype": "text/x-python",
   "name": "python",
   "nbconvert_exporter": "python",
   "pygments_lexer": "ipython3",
   "version": "3.12.4"
  }
 },
 "nbformat": 4,
 "nbformat_minor": 2
}
